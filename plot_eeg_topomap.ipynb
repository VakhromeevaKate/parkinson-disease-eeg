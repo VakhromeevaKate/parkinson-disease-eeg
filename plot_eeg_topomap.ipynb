{
  "cells": [
    {
      "cell_type": "code",
      "execution_count": null,
      "metadata": {
        "collapsed": false
      },
      "outputs": [],
      "source": [
        "%matplotlib inline"
      ]
    },
    {
      "cell_type": "markdown",
      "metadata": {},
      "source": [
        "\n# Plotting EEG Topomap of Alpha/Theta Ratio with MNE\n\nBasic STRF fitting tutorial.\n\nMNE is a popular python toolbox for analyzing neural data,\nand it has a lot of visualization capabilities. In this tutorial, we show how to interface\nbetween `naplib-python` and `mne` to produce EEG topomaps.\n"
      ]
    },
    {
      "cell_type": "code",
      "execution_count": null,
      "metadata": {
        "collapsed": false
      },
      "outputs": [],
      "source": [
        "# Author: Gavin Mischler\n# \n# License: MIT\n\nimport os\nfrom os import path\nimport openneuro\nfrom mne.datasets import sample\nimport numpy as np\nimport matplotlib.pyplot as plt\nimport mne\nfrom mne.viz import plot_topomap\n\nfrom naplib.io import load_bids"
      ]
    },
    {
      "cell_type": "markdown",
      "metadata": {},
      "source": [
        "## Download EEG data from OpenNeuro\n\nImport data and get auditory spectrogram which will be used as stimulus.\n\n"
      ]
    },
    {
      "cell_type": "code",
      "execution_count": null,
      "metadata": {
        "collapsed": false
      },
      "outputs": [],
      "source": [
        "dataset = 'ds002778'\nsubject = 'pd6'\n\nbids_root = path.join(path.dirname(sample.data_path()), dataset)\nprint(bids_root)\nif not path.isdir(bids_root):\n    os.makedirs(bids_root)\n\nopenneuro.download(dataset=dataset, target_dir=bids_root,\n                   include=[f'sub-{subject}'])"
      ]
    },
    {
      "cell_type": "markdown",
      "metadata": {},
      "source": [
        "## Read the data into a Data object\n\n"
      ]
    },
    {
      "cell_type": "code",
      "execution_count": null,
      "metadata": {
        "collapsed": false
      },
      "outputs": [],
      "source": [
        "# We are only interested in the 32-channel EEG data as the responses, so select those channels\nresp_channels = ['Fp1','AF3','F7','F3','FC1','FC5','T7','C3','CP1','CP5','P7',\n                 'P3','Pz','PO3','O1','Oz','O2','PO4','P4','P8','CP6','CP2',\n                 'C4','T8','FC6','FC2','F4','F8','AF4','Fp2','Fz','Cz']\n\ndata = load_bids(root=bids_root, subject=subject, datatype='eeg', task='rest', suffix='eeg', session='off', resp_channels=resp_channels)"
      ]
    },
    {
      "cell_type": "markdown",
      "metadata": {},
      "source": [
        "## Compute Alpha Theta Ratio\n\nLet's compute the Alpha/Theta Ratio in each channel. We use the log-value so that ratios above 1 are positive and ratios below 1 are negative, which makes the resulting topomap more clear.\n\n"
      ]
    },
    {
      "cell_type": "code",
      "execution_count": null,
      "metadata": {
        "collapsed": false
      },
      "outputs": [],
      "source": [
        "def log_alpha_theta_ratio(response, sfreq):\n    '''response should be of shape (time * channels)'''\n    # must transpose response for mne function\n    alpha_psd, _ = mne.time_frequency.psd_array_welch(response.T, sfreq, fmin=8, fmax=13, verbose=False) # psd is shape (channels * freqs)\n    alpha_psd = alpha_psd.mean(-1)\n    \n    theta_psd, _ = mne.time_frequency.psd_array_welch(response.T, sfreq, fmin=4, fmax=8, verbose=False) # psd is shape (channels * freqs)\n    theta_psd = theta_psd.mean(-1)\n    \n    return np.log(alpha_psd / theta_psd)\n    \n\nalpha_theta_ratio = [log_alpha_theta_ratio(trial['resp'], trial['sfreq']) for trial in data]"
      ]
    },
    {
      "cell_type": "markdown",
      "metadata": {},
      "source": [
        "## Visualize Results with MNE\n\nThe Data contains the mne_info attribute (data.mne_info) which we can use for plotting\nThis info is an instance of mne.Info, and it contains measurement information\nlike channel names, locations, etc, as well as other metadata\n\n"
      ]
    },
    {
      "cell_type": "code",
      "execution_count": null,
      "metadata": {
        "collapsed": false
      },
      "outputs": [],
      "source": [
        "# First, we need to set the montage (i.e. the arrangement of electrodes) so that the channels can be plotted properly\n# Here, we set it to the standard 10-20 system, but many options are available if the data were recorded in a different\n# montage. See https://mne.tools/dev/generated/mne.channels.make_standard_montage.html for details\ndata.mne_info.set_montage('standard_1020')\n\nfig, ax = plt.subplots()\nax.set_title('Trial 1 Alpha/Theta Ratio')\nplot_topomap(alpha_theta_ratio[0], data.mne_info, axes=ax)\nplt.show()"
      ]
    }
  ],
  "metadata": {
    "kernelspec": {
      "display_name": "Python 3",
      "language": "python",
      "name": "python3"
    },
    "language_info": {
      "codemirror_mode": {
        "name": "ipython",
        "version": 3
      },
      "file_extension": ".py",
      "mimetype": "text/x-python",
      "name": "python",
      "nbconvert_exporter": "python",
      "pygments_lexer": "ipython3",
      "version": "3.8.19"
    }
  },
  "nbformat": 4,
  "nbformat_minor": 0
}