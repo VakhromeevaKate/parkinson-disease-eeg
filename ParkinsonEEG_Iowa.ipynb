{
 "cells": [
  {
   "cell_type": "markdown",
   "metadata": {},
   "source": [
    "# Программная реализация машиного обучения для определения биомаркеров болезни Паркинсона по ЭЭГ\n",
    "\n",
    "Используемый датасет: https://bit.ly/3pP1pts\n",
    "\n",
    "(dataset is a public dataset (Anjum et al., 2020) recorded by the University of Iowa (UI; Iowa City, Iowa))"
   ]
  },
  {
   "cell_type": "code",
   "execution_count": null,
   "metadata": {},
   "outputs": [
    {
     "name": "stdout",
     "output_type": "stream",
     "text": [
      "Note: you may need to restart the kernel to use updated packages.\n"
     ]
    }
   ],
   "source": [
    "%pip install mne scipy numpy matplotlib numba scikit-learn mat73 pandas --quiet"
   ]
  },
  {
   "cell_type": "markdown",
   "metadata": {},
   "source": [
    "## Data loading"
   ]
  },
  {
   "cell_type": "code",
   "execution_count": 24,
   "metadata": {},
   "outputs": [],
   "source": [
    "import mne\n",
    "import numpy as np\n",
    "import pandas as pd\n",
    "import scipy.io as sio\n",
    "import matplotlib.pyplot as plt\n",
    "from mne.decoding import CSP\n",
    "from sklearn.svm import SVC\n",
    "from sklearn.pipeline import Pipeline\n",
    "from sklearn.model_selection import ShuffleSplit, KFold\n",
    "from sklearn.model_selection import cross_val_score\n",
    "import mat73 # поддержка загрузки функций матлаба 7.3"
   ]
  },
  {
   "cell_type": "code",
   "execution_count": 2,
   "metadata": {},
   "outputs": [
    {
     "name": "stdout",
     "output_type": "stream",
     "text": [
      "Platform:      macOS-14.6.1-arm64-arm-64bit\n",
      "Python:        3.9.19 (main, May  6 2024, 14:39:30)  [Clang 14.0.6 ]\n",
      "Executable:    /Users/evakhromeeva/Projects/BeSMPSegmentation/.conda/bin/python\n",
      "CPU:           arm: 8 cores\n",
      "Memory:        16.0 GB\n",
      "\n",
      "mne:           0.22.0\n",
      "numpy:         1.22.0 {}\n",
      "scipy:         1.10.1\n",
      "matplotlib:    3.8.4 {backend=module://matplotlib_inline.backend_inline}\n",
      "\n",
      "sklearn:       1.1.3\n",
      "numba:         0.60.0\n",
      "nibabel:       Not found\n",
      "nilearn:       Not found\n",
      "dipy:          Not found\n",
      "cupy:          Not found\n",
      "pandas:        2.0.3\n",
      "mayavi:        Not found\n",
      "pyvista:       Not found\n",
      "vtk:           Not found\n"
     ]
    }
   ],
   "source": [
    "# используемые версии\n",
    "mne.sys_info()"
   ]
  },
  {
   "cell_type": "code",
   "execution_count": 21,
   "metadata": {},
   "outputs": [],
   "source": [
    "data_dath_control = 'data/raw/IowaDataset/Control/' # контрольная группа\n",
    "data_dath_PD = 'data/raw/IowaDataset/PD/' # с болезнью Паркинсона\n",
    "data_file = './data/raw/IowaData.mat' # склеенный большой датасет в формате MathLab"
   ]
  },
  {
   "cell_type": "code",
   "execution_count": 26,
   "metadata": {},
   "outputs": [],
   "source": [
    "load_path = data_file"
   ]
  },
  {
   "cell_type": "code",
   "execution_count": 32,
   "metadata": {},
   "outputs": [
    {
     "name": "stdout",
     "output_type": "stream",
     "text": [
      "[[(array([], dtype='<U1'), array([], dtype='<U1'), array([], dtype='<U1'), array([], dtype='<U1'), array([], dtype='<U1'), array([], dtype='<U1'), array([], shape=(0, 0), dtype=uint8), array(['Original file: PD1001.eeg'], dtype='<U25'), array([[63]], dtype=uint8), array([[1]], dtype=uint8), array([[140830]], dtype=int32), array([[500]], dtype=uint16), array([[0]], dtype=uint8), array([[281.658]]), array([[     0,      2,      4, ..., 281654, 281656, 281658]], dtype=int32), array([[ 1.4958229e+02,  1.4235858e+02,  1.4182542e+02, ...,\n",
      "          -2.8125677e+01, -2.6494854e+01, -2.9453680e+01],\n",
      "         [ 1.1369680e+01,  7.4345737e+00,  4.3305407e+00, ...,\n",
      "          -3.4876930e+01, -2.6515079e+01, -1.8448519e+01],\n",
      "         [-1.3996609e+01, -1.3588393e+01, -2.9096001e+01, ...,\n",
      "           6.4078307e+00, -7.1156101e+00, -1.0579273e+00],\n",
      "         ...,\n",
      "         [-3.2050793e+00, -1.5411200e+01, -1.1307589e+01, ...,\n",
      "          -1.5377218e+01, -2.1305482e+00,  5.8885074e+00],\n",
      "         [ 7.9463220e+00,  5.5239468e+00,  2.1746538e+00, ...,\n",
      "          -3.6646023e+01, -2.5991137e+01, -1.6364511e+01],\n",
      "         [ 9.1762885e-02, -1.3917612e+00, -5.3159256e+00, ...,\n",
      "           8.1177855e-01,  5.2974420e+00,  4.7532539e+00]], dtype=float32), array([], shape=(0, 0), dtype=uint8), array([], shape=(0, 0), dtype=uint8), array([], shape=(0, 0), dtype=uint8), array([], shape=(0, 0), dtype=uint8), array([], shape=(0, 0), dtype=uint8), array([[(array(['Fp1'], dtype='<U3'), array([], dtype='<U1'), array([[-17.926]]), array([[0.51498889]]), array([[80.78401377]]), array([[26.1330144]]), array([[-4.00108454]]), array([[17.926]]), array([[-2.698]]), array([[85]], dtype=uint8), array([[1]], dtype=uint8), array([], dtype='<U1')),\n",
      "          (array(['Fz'], dtype='<U2'), array([], dtype='<U1'), array([[0]], dtype=uint8), array([[0.25337778]]), array([[60.73848095]]), array([[-0.]]), array([[59.46290383]]), array([[-0.]]), array([[44.392]]), array([[85]], dtype=uint8), array([[2]], dtype=uint8), array([], dtype='<U1')),\n",
      "          (array(['F3'], dtype='<U2'), array([], dtype='<U1'), array([[-39.947]]), array([[0.34459444]]), array([[57.55106339]]), array([[48.20042732]]), array([[39.86971167]]), array([[39.947]]), array([[27.973]]), array([[85]], dtype=uint8), array([[3]], dtype=uint8), array([], dtype='<U1')),\n",
      "          (array(['F7'], dtype='<U2'), array([], dtype='<U1'), array([[-53.913]]), array([[0.52808333]]), array([[49.87137795]]), array([[68.42333503]]), array([[-7.48951836]]), array([[53.913]]), array([[-5.055]]), array([[85]], dtype=uint8), array([[4]], dtype=uint8), array([], dtype='<U1')),\n",
      "          (array(['FT9'], dtype='<U3'), array([], dtype='<U1'), array([[-71.607]]), array([[0.66488889]]), array([[23.30160718]]), array([[70.07579868]]), array([[-42.08821144]]), array([[71.607]]), array([[-29.68]]), array([[85]], dtype=uint8), array([[5]], dtype=uint8), array([], dtype='<U1')),\n",
      "          (array(['FC5'], dtype='<U3'), array([], dtype='<U1'), array([[-69.332]]), array([[0.40823333]]), array([[28.76282344]]), array([[76.24736451]]), array([[24.16690699]]), array([[69.332]]), array([[16.518]]), array([[85]], dtype=uint8), array([[6]], dtype=uint8), array([], dtype='<U1')),\n",
      "          (array(['FC1'], dtype='<U3'), array([], dtype='<U1'), array([[-44.925]]), array([[0.18118333]]), array([[32.4361839]]), array([[32.35137713]]), array([[71.59806123]]), array([[44.925]]), array([[57.387]]), array([[85]], dtype=uint8), array([[7]], dtype=uint8), array([], dtype='<U1')),\n",
      "          (array(['C3'], dtype='<U2'), array([], dtype='<U1'), array([[-90]], dtype=int16), array([[0.26668889]]), array([[3.86812534e-15]]), array([[63.17128071]]), array([[56.87169149]]), array([[90]], dtype=uint8), array([[41.996]]), array([[85]], dtype=uint8), array([[8]], dtype=uint8), array([], dtype='<U1')),\n",
      "          (array(['T7'], dtype='<U2'), array([], dtype='<U1'), array([[-90]], dtype=int16), array([[0.53318333]]), array([[5.17649254e-15]]), array([[84.53853864]]), array([[-8.84508251]]), array([[90]], dtype=uint8), array([[-5.973]]), array([[85]], dtype=uint8), array([[9]], dtype=uint8), array([], dtype='<U1')),\n",
      "          (array(['TP9'], dtype='<U3'), array([], dtype='<U1'), array([[-108.393]]), array([[0.66488889]]), array([[-23.30160718]]), array([[70.07579868]]), array([[-42.08821144]]), array([[108.393]]), array([[-29.68]]), array([[85]], dtype=uint8), array([[10]], dtype=uint8), array([], dtype='<U1')),\n",
      "          (array(['CP5'], dtype='<U3'), array([], dtype='<U1'), array([[-110.668]]), array([[0.40823333]]), array([[-28.76282344]]), array([[76.24736451]]), array([[24.16690699]]), array([[110.668]]), array([[16.518]]), array([[85]], dtype=uint8), array([[11]], dtype=uint8), array([], dtype='<U1')),\n",
      "          (array(['CP1'], dtype='<U3'), array([], dtype='<U1'), array([[-135.075]]), array([[0.18118333]]), array([[-32.4361839]]), array([[32.35137713]]), array([[71.59806123]]), array([[135.075]]), array([[57.387]]), array([[85]], dtype=uint8), array([[12]], dtype=uint8), array([], dtype='<U1')),\n",
      "          (array(['P3'], dtype='<U2'), array([], dtype='<U1'), array([[-140.053]]), array([[0.34459444]]), array([[-57.55106339]]), array([[48.20042732]]), array([[39.86971167]]), array([[140.053]]), array([[27.973]]), array([[85]], dtype=uint8), array([[13]], dtype=uint8), array([], dtype='<U1')),\n",
      "          (array(['P7'], dtype='<U2'), array([], dtype='<U1'), array([[-126.087]]), array([[0.52808333]]), array([[-49.87137795]]), array([[68.42333503]]), array([[-7.48951836]]), array([[126.087]]), array([[-5.055]]), array([[85]], dtype=uint8), array([[14]], dtype=uint8), array([], dtype='<U1')),\n",
      "          (array(['O1'], dtype='<U2'), array([], dtype='<U1'), array([[-162.074]]), array([[0.51498889]]), array([[-80.78401377]]), array([[26.1330144]]), array([[-4.00108454]]), array([[162.074]]), array([[-2.698]]), array([[85]], dtype=uint8), array([[15]], dtype=uint8), array([], dtype='<U1')),\n",
      "          (array(['Oz'], dtype='<U2'), array([], dtype='<U1'), array([[180]], dtype=uint8), array([[0.50668889]]), array([[-84.98123361]]), array([[-1.04071996e-14]]), array([[-1.7860385]]), array([[-180]], dtype=int16), array([[-1.204]]), array([[85]], dtype=uint8), array([[16]], dtype=uint8), array([], dtype='<U1')),\n",
      "          (array(['O2'], dtype='<U2'), array([], dtype='<U1'), array([[162.074]]), array([[0.51498889]]), array([[-80.78401377]]), array([[-26.1330144]]), array([[-4.00108454]]), array([[-162.074]]), array([[-2.698]]), array([[85]], dtype=uint8), array([[17]], dtype=uint8), array([], dtype='<U1')),\n",
      "          (array(['P4'], dtype='<U2'), array([], dtype='<U1'), array([[140.103]]), array([[0.3445]]), array([[-57.58402611]]), array([[-48.14259647]]), array([[39.89198344]]), array([[-140.103]]), array([[27.99]]), array([[85]], dtype=uint8), array([[18]], dtype=uint8), array([], dtype='<U1')),\n",
      "          (array(['P8'], dtype='<U2'), array([], dtype='<U1'), array([[126.133]]), array([[0.52806667]]), array([[-49.92652681]]), array([[-68.3835903]]), array([[-7.48508507]]), array([[-126.133]]), array([[-5.052]]), array([[85]], dtype=uint8), array([[19]], dtype=uint8), array([], dtype='<U1')),\n",
      "          (array(['TP10'], dtype='<U4'), array([], dtype='<U1'), array([[108.393]]), array([[0.66488889]]), array([[-23.30160718]]), array([[-70.07579868]]), array([[-42.08821144]]), array([[-108.393]]), array([[-29.68]]), array([[85]], dtype=uint8), array([[20]], dtype=uint8), array([], dtype='<U1')),\n",
      "          (array(['CP6'], dtype='<U3'), array([], dtype='<U1'), array([[110.668]]), array([[0.40823333]]), array([[-28.76282344]]), array([[-76.24736451]]), array([[24.16690699]]), array([[-110.668]]), array([[16.518]]), array([[85]], dtype=uint8), array([[21]], dtype=uint8), array([], dtype='<U1')),\n",
      "          (array(['CP2'], dtype='<U3'), array([], dtype='<U1'), array([[135.075]]), array([[0.18118333]]), array([[-32.4361839]]), array([[-32.35137713]]), array([[71.59806123]]), array([[-135.075]]), array([[57.387]]), array([[85]], dtype=uint8), array([[22]], dtype=uint8), array([], dtype='<U1')),\n",
      "          (array(['Cz'], dtype='<U2'), array([], dtype='<U1'), array([[0]], dtype=uint8), array([[0]], dtype=uint8), array([[5.2047489e-15]]), array([[-0.]]), array([[85]], dtype=uint8), array([[-0.]]), array([[90]], dtype=uint8), array([[85]], dtype=uint8), array([[23]], dtype=uint8), array([], dtype='<U1')),\n",
      "          (array(['C4'], dtype='<U2'), array([], dtype='<U1'), array([[90]], dtype=uint8), array([[0.26666667]]), array([[3.86788221e-15]]), array([[-63.16731017]]), array([[56.87610154]]), array([[-90]], dtype=int16), array([[42]], dtype=uint8), array([[85]], dtype=uint8), array([[24]], dtype=uint8), array([], dtype='<U1')),\n",
      "          (array(['T8'], dtype='<U2'), array([], dtype='<U1'), array([[90]], dtype=uint8), array([[0.53318333]]), array([[5.17649254e-15]]), array([[-84.53853864]]), array([[-8.84508251]]), array([[-90]], dtype=int16), array([[-5.973]]), array([[85]], dtype=uint8), array([[25]], dtype=uint8), array([], dtype='<U1')),\n",
      "          (array(['FT10'], dtype='<U4'), array([], dtype='<U1'), array([[71.607]]), array([[0.66488889]]), array([[23.30160718]]), array([[-70.07579868]]), array([[-42.08821144]]), array([[-71.607]]), array([[-29.68]]), array([[85]], dtype=uint8), array([[26]], dtype=uint8), array([], dtype='<U1')),\n",
      "          (array(['FC6'], dtype='<U3'), array([], dtype='<U1'), array([[69.332]]), array([[0.40823333]]), array([[28.76282344]]), array([[-76.24736451]]), array([[24.16690699]]), array([[-69.332]]), array([[16.518]]), array([[85]], dtype=uint8), array([[27]], dtype=uint8), array([], dtype='<U1')),\n",
      "          (array(['FC2'], dtype='<U3'), array([], dtype='<U1'), array([[44.925]]), array([[0.18118333]]), array([[32.4361839]]), array([[-32.35137713]]), array([[71.59806123]]), array([[-44.925]]), array([[57.387]]), array([[85]], dtype=uint8), array([[28]], dtype=uint8), array([], dtype='<U1')),\n",
      "          (array(['F4'], dtype='<U2'), array([], dtype='<U1'), array([[39.897]]), array([[0.3445]]), array([[57.58402611]]), array([[-48.14259647]]), array([[39.89198344]]), array([[-39.897]]), array([[27.99]]), array([[85]], dtype=uint8), array([[29]], dtype=uint8), array([], dtype='<U1')),\n",
      "          (array(['F8'], dtype='<U2'), array([], dtype='<U1'), array([[53.867]]), array([[0.52806667]]), array([[49.92652681]]), array([[-68.3835903]]), array([[-7.48508507]]), array([[-53.867]]), array([[-5.052]]), array([[85]], dtype=uint8), array([[30]], dtype=uint8), array([], dtype='<U1')),\n",
      "          (array(['Fp2'], dtype='<U3'), array([], dtype='<U1'), array([[17.926]]), array([[0.51498889]]), array([[80.78401377]]), array([[-26.1330144]]), array([[-4.00108454]]), array([[-17.926]]), array([[-2.698]]), array([[85]], dtype=uint8), array([[31]], dtype=uint8), array([], dtype='<U1')),\n",
      "          (array(['AF7'], dtype='<U3'), array([], dtype='<U1'), array([[-35.892]]), array([[0.52233333]]), array([[68.69107635]]), array([[49.70943131]]), array([[-5.95889823]]), array([[35.892]]), array([[-4.02]]), array([[85]], dtype=uint8), array([[32]], dtype=uint8), array([], dtype='<U1')),\n",
      "          (array(['AF3'], dtype='<U3'), array([], dtype='<U1'), array([[-22.461]]), array([[0.42112778]]), array([[76.15276677]]), array([[31.4827968]]), array([[20.84681317]]), array([[22.461]]), array([[14.197]]), array([[85]], dtype=uint8), array([[33]], dtype=uint8), array([], dtype='<U1')),\n",
      "          (array(['AFz'], dtype='<U3'), array([], dtype='<U1'), array([[0]], dtype=uint8), array([[0.37994444]]), array([[79.02553886]]), array([[-0.]]), array([[31.30438001]]), array([[-0.]]), array([[21.61]]), array([[85]], dtype=uint8), array([[34]], dtype=uint8), array([], dtype='<U1')),\n",
      "          (array(['F1'], dtype='<U2'), array([], dtype='<U1'), array([[-23.493]]), array([[0.27902778]]), array([[59.91273024]]), array([[26.04209339]]), array([[54.38082499]]), array([[23.493]]), array([[39.775]]), array([[85]], dtype=uint8), array([[35]], dtype=uint8), array([], dtype='<U1')),\n",
      "          (array(['F5'], dtype='<U2'), array([], dtype='<U1'), array([[-49.405]]), array([[0.43159444]]), array([[54.03788811]]), array([[63.05822186]]), array([[18.12642556]]), array([[49.405]]), array([[12.313]]), array([[85]], dtype=uint8), array([[36]], dtype=uint8), array([], dtype='<U1')),\n",
      "          (array(['FT7'], dtype='<U3'), array([], dtype='<U1'), array([[-71.948]]), array([[0.53191667]]), array([[26.20750353]]), array([[80.41001431]]), array([[-8.50860488]]), array([[71.948]]), array([[-5.745]]), array([[85]], dtype=uint8), array([[37]], dtype=uint8), array([], dtype='<U1')),\n",
      "          (array(['FC3'], dtype='<U3'), array([], dtype='<U1'), array([[-62.425]]), array([[0.28822222]]), array([[30.95528495]]), array([[59.27497818]]), array([[52.47139502]]), array([[62.425]]), array([[38.12]]), array([[85]], dtype=uint8), array([[38]], dtype=uint8), array([], dtype='<U1')),\n",
      "          (array(['C1'], dtype='<U2'), array([], dtype='<U1'), array([[-90]], dtype=int16), array([[0.13318889]]), array([[2.11480423e-15]]), array([[34.53737403]]), array([[77.66704446]]), array([[90]], dtype=uint8), array([[66.026]]), array([[85]], dtype=uint8), array([[39]], dtype=uint8), array([], dtype='<U1')),\n",
      "          (array(['C5'], dtype='<U2'), array([], dtype='<U1'), array([[-90]], dtype=int16), array([[0.3999]]), array([[4.94950483e-15]]), array([[80.83154805]]), array([[26.2918398]]), array([[90]], dtype=uint8), array([[18.018]]), array([[85]], dtype=uint8), array([[40]], dtype=uint8), array([], dtype='<U1')),\n",
      "          (array(['TP7'], dtype='<U3'), array([], dtype='<U1'), array([[-108.052]]), array([[0.53191667]]), array([[-26.20750353]]), array([[80.41001431]]), array([[-8.50860488]]), array([[108.052]]), array([[-5.745]]), array([[85]], dtype=uint8), array([[41]], dtype=uint8), array([], dtype='<U1')),\n",
      "          (array(['CP3'], dtype='<U3'), array([], dtype='<U1'), array([[-117.575]]), array([[0.28822222]]), array([[-30.95528495]]), array([[59.27497818]]), array([[52.47139502]]), array([[117.575]]), array([[38.12]]), array([[85]], dtype=uint8), array([[42]], dtype=uint8), array([], dtype='<U1')),\n",
      "          (array(['P1'], dtype='<U2'), array([], dtype='<U1'), array([[-156.507]]), array([[0.27902778]]), array([[-59.91273024]]), array([[26.04209339]]), array([[54.38082499]]), array([[156.507]]), array([[39.775]]), array([[85]], dtype=uint8), array([[43]], dtype=uint8), array([], dtype='<U1')),\n",
      "          (array(['P5'], dtype='<U2'), array([], dtype='<U1'), array([[-130.595]]), array([[0.43159444]]), array([[-54.03788811]]), array([[63.05822186]]), array([[18.12642556]]), array([[130.595]]), array([[12.313]]), array([[85]], dtype=uint8), array([[44]], dtype=uint8), array([], dtype='<U1')),\n",
      "          (array(['PO7'], dtype='<U3'), array([], dtype='<U1'), array([[-144.108]]), array([[0.52233333]]), array([[-68.69107635]]), array([[49.70943131]]), array([[-5.95889823]]), array([[144.108]]), array([[-4.02]]), array([[85]], dtype=uint8), array([[45]], dtype=uint8), array([], dtype='<U1')),\n",
      "          (array(['PO3'], dtype='<U3'), array([], dtype='<U1'), array([[-157.539]]), array([[0.42112778]]), array([[-76.15276677]]), array([[31.4827968]]), array([[20.84681317]]), array([[157.539]]), array([[14.197]]), array([[85]], dtype=uint8), array([[46]], dtype=uint8), array([], dtype='<U1')),\n",
      "          (array(['POz'], dtype='<U3'), array([], dtype='<U1'), array([[180]], dtype=uint8), array([[0.37994444]]), array([[-79.02553886]]), array([[-9.67783732e-15]]), array([[31.30438001]]), array([[-180]], dtype=int16), array([[21.61]]), array([[85]], dtype=uint8), array([[47]], dtype=uint8), array([], dtype='<U1')),\n",
      "          (array(['PO4'], dtype='<U3'), array([], dtype='<U1'), array([[157.539]]), array([[0.42112778]]), array([[-76.15276677]]), array([[-31.4827968]]), array([[20.84681317]]), array([[-157.539]]), array([[14.197]]), array([[85]], dtype=uint8), array([[48]], dtype=uint8), array([], dtype='<U1')),\n",
      "          (array(['PO8'], dtype='<U3'), array([], dtype='<U1'), array([[144.142]]), array([[0.52231111]]), array([[-68.72089942]]), array([[-49.66890403]]), array([[-5.95297869]]), array([[-144.142]]), array([[-4.016]]), array([[85]], dtype=uint8), array([[49]], dtype=uint8), array([], dtype='<U1')),\n",
      "          (array(['P6'], dtype='<U2'), array([], dtype='<U1'), array([[130.595]]), array([[0.43128333]]), array([[-54.02633405]]), array([[-63.04473912]]), array([[18.20758354]]), array([[-130.595]]), array([[12.369]]), array([[85]], dtype=uint8), array([[50]], dtype=uint8), array([], dtype='<U1')),\n",
      "          (array(['P2'], dtype='<U2'), array([], dtype='<U1'), array([[156.507]]), array([[0.27878333]]), array([[-59.87441277]]), array([[-26.02543804]]), array([[54.43097712]]), array([[-156.507]]), array([[39.819]]), array([[85]], dtype=uint8), array([[51]], dtype=uint8), array([], dtype='<U1')),\n",
      "          (array(['CPz'], dtype='<U3'), array([], dtype='<U1'), array([[180]], dtype=uint8), array([[0.12662222]]), array([[-32.92788364]]), array([[-4.03250273e-15]]), array([[78.36296625]]), array([[-180]], dtype=int16), array([[67.208]]), array([[85]], dtype=uint8), array([[52]], dtype=uint8), array([], dtype='<U1')),\n",
      "          (array(['CP4'], dtype='<U3'), array([], dtype='<U1'), array([[117.575]]), array([[0.28822222]]), array([[-30.95528495]]), array([[-59.27497818]]), array([[52.47139502]]), array([[-117.575]]), array([[38.12]]), array([[85]], dtype=uint8), array([[53]], dtype=uint8), array([], dtype='<U1')),\n",
      "          (array(['TP8'], dtype='<U3'), array([], dtype='<U1'), array([[108.107]]), array([[0.53190556]]), array([[-26.28477181]]), array([[-80.38510212]]), array([[-8.50565271]]), array([[-108.107]]), array([[-5.743]]), array([[85]], dtype=uint8), array([[54]], dtype=uint8), array([], dtype='<U1')),\n",
      "          (array(['C6'], dtype='<U2'), array([], dtype='<U1'), array([[90]], dtype=uint8), array([[0.3999]]), array([[4.94950483e-15]]), array([[-80.83154805]]), array([[26.2918398]]), array([[-90]], dtype=int16), array([[18.018]]), array([[85]], dtype=uint8), array([[55]], dtype=uint8), array([], dtype='<U1')),\n",
      "          (array(['C2'], dtype='<U2'), array([], dtype='<U1'), array([[90]], dtype=uint8), array([[0.13348333]]), array([[2.11920249e-15]]), array([[-34.60920316]]), array([[77.63506332]]), array([[-90]], dtype=int16), array([[65.973]]), array([[85]], dtype=uint8), array([[56]], dtype=uint8), array([], dtype='<U1')),\n",
      "          (array(['FC4'], dtype='<U3'), array([], dtype='<U1'), array([[62.425]]), array([[0.28822222]]), array([[30.95528495]]), array([[-59.27497818]]), array([[52.47139502]]), array([[-62.425]]), array([[38.12]]), array([[85]], dtype=uint8), array([[57]], dtype=uint8), array([], dtype='<U1')),\n",
      "          (array(['FT8'], dtype='<U3'), array([], dtype='<U1'), array([[71.948]]), array([[0.53191667]]), array([[26.20750353]]), array([[-80.41001431]]), array([[-8.50860488]]), array([[-71.948]]), array([[-5.745]]), array([[85]], dtype=uint8), array([[58]], dtype=uint8), array([], dtype='<U1')),\n",
      "          (array(['F6'], dtype='<U2'), array([], dtype='<U1'), array([[49.405]]), array([[0.43128333]]), array([[54.02633405]]), array([[-63.04473912]]), array([[18.20758354]]), array([[-49.405]]), array([[12.369]]), array([[85]], dtype=uint8), array([[59]], dtype=uint8), array([], dtype='<U1')),\n",
      "          (array(['AF8'], dtype='<U3'), array([], dtype='<U1'), array([[35.858]]), array([[0.52231111]]), array([[68.72089942]]), array([[-49.66890403]]), array([[-5.95297869]]), array([[-35.858]]), array([[-4.016]]), array([[85]], dtype=uint8), array([[60]], dtype=uint8), array([], dtype='<U1')),\n",
      "          (array(['AF4'], dtype='<U3'), array([], dtype='<U1'), array([[22.461]]), array([[0.42112778]]), array([[76.15276677]]), array([[-31.4827968]]), array([[20.84681317]]), array([[-22.461]]), array([[14.197]]), array([[85]], dtype=uint8), array([[61]], dtype=uint8), array([], dtype='<U1')),\n",
      "          (array(['F2'], dtype='<U2'), array([], dtype='<U1'), array([[23.493]]), array([[0.27878333]]), array([[59.87441277]]), array([[-26.02543804]]), array([[54.43097712]]), array([[-23.493]]), array([[39.819]]), array([[85]], dtype=uint8), array([[62]], dtype=uint8), array([], dtype='<U1')),\n",
      "          (array(['FCz'], dtype='<U3'), array([], dtype='<U1'), array([[0]], dtype=uint8), array([[0.12662222]]), array([[32.92788364]]), array([[-0.]]), array([[78.36296625]]), array([[-0.]]), array([[67.208]]), array([[85]], dtype=uint8), array([[63]], dtype=uint8), array([], dtype='<U1'))]],\n",
      "        dtype=[('labels', 'O'), ('type', 'O'), ('theta', 'O'), ('radius', 'O'), ('X', 'O'), ('Y', 'O'), ('Z', 'O'), ('sph_theta', 'O'), ('sph_phi', 'O'), ('sph_radius', 'O'), ('urchan', 'O'), ('ref', 'O')]), array([], shape=(0, 0), dtype=uint8), array([[(array([], shape=(0, 0), dtype=uint8), array([], shape=(0, 0), dtype=uint8), array(['+X'], dtype='<U2'), array([], shape=(0, 0), dtype=uint8), array([], shape=(0, 0), dtype=uint8), array(['D:\\\\Fahim Research\\\\Research\\\\Human Parkinson EEG Prof dasGupta\\\\Working Classifier github\\\\unsegmented data\\\\IowaDataset2020\\\\CodesForProcess\\\\eeglab_current\\\\eeglab2019_1\\\\plugins\\\\dipfit\\\\standard_BESA\\\\standard-10-5-cap385.elp'],\n",
      "                dtype='<U217'))                                                                                                                                                                                                                                                                                                                                                                                                                 ]],\n",
      "        dtype=[('plotrad', 'O'), ('shrink', 'O'), ('nosedir', 'O'), ('nodatchans', 'O'), ('icachansind', 'O'), ('filename', 'O')]), array(['common'], dtype='<U6'), array([[(array([[1]], dtype=uint8), array([[nan]]), array([[0]], dtype=uint8), array([[-2049598749]], dtype=int32), array([[1]], dtype=uint8), array(['boundary'], dtype='<U8'), array(['New Segment'], dtype='<U11'), array([[1]], dtype=uint8))]],\n",
      "        dtype=[('latency', 'O'), ('duration', 'O'), ('channel', 'O'), ('bvtime', 'O'), ('bvmknum', 'O'), ('type', 'O'), ('code', 'O'), ('urevent', 'O')]), array([[(array([[1]], dtype=uint8), array([[1]], dtype=uint8), array([[0]], dtype=uint8), array([[-2049598749]], dtype=int32), array([[1]], dtype=uint8), array(['boundary'], dtype='<U8'), array(['New Segment'], dtype='<U11'))]],\n",
      "        dtype=[('latency', 'O'), ('duration', 'O'), ('channel', 'O'), ('bvtime', 'O'), ('bvmknum', 'O'), ('type', 'O'), ('code', 'O')]), array([[array([], dtype='<U1'), array([], dtype='<U1'),\n",
      "          array([], dtype='<U1'), array([], dtype='<U1'),\n",
      "          array([], dtype='<U1'), array([], dtype='<U1'),\n",
      "          array([], dtype='<U1'), array([], dtype='<U1')]], dtype=object), array([], shape=(0, 0), dtype=uint8), array([], shape=(0, 0), dtype=object), array([[(array([], shape=(0, 0), dtype=uint8), array([], shape=(0, 0), dtype=uint8), array([], shape=(0, 0), dtype=uint8), array([], shape=(0, 0), dtype=uint8), array([], shape=(0, 0), dtype=uint8), array([], shape=(0, 0), dtype=uint8), array([], shape=(0, 0), dtype=uint8), array([], shape=(0, 0), dtype=uint8), array([], shape=(0, 0), dtype=uint8), array([], shape=(0, 0), dtype=uint8), array([], shape=(0, 0), dtype=uint8), array([], shape=(0, 0), dtype=uint8), array([], shape=(0, 0), dtype=uint8), array([], shape=(0, 0), dtype=uint8), array([], shape=(0, 0), dtype=uint8), array([], shape=(0, 0), dtype=uint8), array([], shape=(0, 0), dtype=uint8), array([], shape=(0, 0), dtype=uint8), array([], shape=(0, 0), dtype=uint8), array([], shape=(0, 0), dtype=uint8), array([], shape=(0, 0), dtype=uint8), array([], shape=(0, 0), dtype=uint8), array([], shape=(0, 0), dtype=uint8), array([], shape=(0, 0), dtype=uint8), array([], shape=(0, 0), dtype=uint8), array([], shape=(0, 0), dtype=uint8), array([[1.   , 1.   , 0.783]]), array([[0.8487, 1.    , 0.5008]]), array([[0.694 , 1.    , 0.7008]]), array([[1.    , 0.6991, 0.7537]]), array([[0.688 , 0.7042, 1.    ]]), array([[0.9596, 0.7193, 1.    ]]), array([], shape=(0, 0), dtype=object), array([[0.8, 0.8, 0.8]]), array([[600]], dtype=uint16), array([[600]], dtype=uint16), array([[600]], dtype=uint16), array([], shape=(0, 0), dtype=uint8))]],\n",
      "        dtype=[('rejjpE', 'O'), ('rejjp', 'O'), ('rejkurtE', 'O'), ('rejkurt', 'O'), ('rejmanualE', 'O'), ('rejmanual', 'O'), ('rejthreshE', 'O'), ('rejthresh', 'O'), ('rejconstE', 'O'), ('rejconst', 'O'), ('rejfreqE', 'O'), ('rejfreq', 'O'), ('icarejjpE', 'O'), ('icarejjp', 'O'), ('icarejkurtE', 'O'), ('icarejkurt', 'O'), ('icarejmanualE', 'O'), ('icarejmanual', 'O'), ('icarejthreshE', 'O'), ('icarejthresh', 'O'), ('icarejconstE', 'O'), ('icarejconst', 'O'), ('icarejfreqE', 'O'), ('icarejfreq', 'O'), ('rejglobal', 'O'), ('rejglobalE', 'O'), ('rejmanualcol', 'O'), ('rejthreshcol', 'O'), ('rejconstcol', 'O'), ('rejjpcol', 'O'), ('rejkurtcol', 'O'), ('rejfreqcol', 'O'), ('disprej', 'O'), ('threshold', 'O'), ('threshentropy', 'O'), ('threshkurtact', 'O'), ('threshkurtdist', 'O'), ('gcompreject', 'O')]), array([[(array([], shape=(0, 0), dtype=uint8), array([], shape=(0, 0), dtype=uint8), array([], shape=(0, 0), dtype=uint8), array([], shape=(0, 0), dtype=uint8), array([], shape=(0, 0), dtype=uint8), array([], shape=(0, 0), dtype=uint8), array([], shape=(0, 0), dtype=uint8), array([], shape=(0, 0), dtype=uint8), array([], shape=(0, 0), dtype=uint8), array([], shape=(0, 0), dtype=uint8), array([], shape=(0, 0), dtype=uint8), array([], shape=(0, 0), dtype=uint8), array([], shape=(0, 0), dtype=uint8))]],\n",
      "        dtype=[('jp', 'O'), ('jpE', 'O'), ('icajp', 'O'), ('icajpE', 'O'), ('kurt', 'O'), ('kurtE', 'O'), ('icakurt', 'O'), ('icakurtE', 'O'), ('compenta', 'O'), ('compentr', 'O'), ('compkurta', 'O'), ('compkurtr', 'O'), ('compkurtdist', 'O')]), array([], shape=(0, 0), dtype=uint8), array([], shape=(0, 0), dtype=uint8), array([], dtype='<U1'), array([], dtype='<U1'), array([], shape=(0, 0), dtype=uint8), array([\"\\nEEG.etc.eeglabvers = '2019.1'; % this tracks which version of EEGLAB is being used, you may ignore it\"],\n",
      "        dtype='<U102'), array(['no'], dtype='<U2'), array([[(array(['2019.1'], dtype='<U6'),)]], dtype=[('eeglabvers', 'O')]), array([], shape=(0, 0), dtype=uint8))                                                                                                                                                                                                                                                                                                                                                                                                                                                                                                                                                                                                                                                                                                                                                                                                                                                                                                                                                                                                                                                                                                                                                                                                                                                                                                                                                                                                                                           ]]\n",
      "['PD1001']\n",
      "[]\n"
     ]
    }
   ],
   "source": [
    "file = data_dath_PD +'PD1001.mat'\n",
    "\n",
    "#load_data = mat73.loadmat(file) # загрузка для матлаба 7.3\n",
    "load_data = sio.loadmat(file) # то же самое для другого матлаба\n",
    "\n",
    "print(load_data['EEG'])\n",
    "\n",
    "print(load_data['Filename'])\n",
    "print(load_data['__globals__'])\n",
    "\n",
    "#df = pd.DataFrame(data=load_data['EEG'])\n",
    "#df.head\n"
   ]
  },
  {
   "cell_type": "code",
   "execution_count": 29,
   "metadata": {},
   "outputs": [
    {
     "ename": "KeyError",
     "evalue": "'x_train'",
     "output_type": "error",
     "traceback": [
      "\u001b[0;31m---------------------------------------------------------------------------\u001b[0m",
      "\u001b[0;31mKeyError\u001b[0m                                  Traceback (most recent call last)",
      "Cell \u001b[0;32mIn[29], line 1\u001b[0m\n\u001b[0;32m----> 1\u001b[0m eeg_data \u001b[38;5;241m=\u001b[39m np\u001b[38;5;241m.\u001b[39marray(\u001b[43mload_data\u001b[49m\u001b[43m[\u001b[49m\u001b[38;5;124;43m\"\u001b[39;49m\u001b[38;5;124;43mx_train\u001b[39;49m\u001b[38;5;124;43m\"\u001b[39;49m\u001b[43m]\u001b[49m)\u001b[38;5;241m.\u001b[39mT\n\u001b[1;32m      2\u001b[0m label \u001b[38;5;241m=\u001b[39m np\u001b[38;5;241m.\u001b[39marray(load_data[\u001b[38;5;124m\"\u001b[39m\u001b[38;5;124my_train\u001b[39m\u001b[38;5;124m\"\u001b[39m])\n\u001b[1;32m      3\u001b[0m \u001b[38;5;28mprint\u001b[39m(eeg_data\u001b[38;5;241m.\u001b[39mshape)\n",
      "\u001b[0;31mKeyError\u001b[0m: 'x_train'"
     ]
    }
   ],
   "source": [
    "eeg_data = np.array(load_data[\"x_train\"]).T\n",
    "label = np.array(load_data[\"y_train\"])\n",
    "print(eeg_data.shape)"
   ]
  }
 ],
 "metadata": {
  "kernelspec": {
   "display_name": "Python 3",
   "language": "python",
   "name": "python3"
  },
  "language_info": {
   "codemirror_mode": {
    "name": "ipython",
    "version": 3
   },
   "file_extension": ".py",
   "mimetype": "text/x-python",
   "name": "python",
   "nbconvert_exporter": "python",
   "pygments_lexer": "ipython3",
   "version": "3.9.19"
  }
 },
 "nbformat": 4,
 "nbformat_minor": 2
}
