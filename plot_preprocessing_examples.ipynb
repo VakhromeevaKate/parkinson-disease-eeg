{
 "cells": [
  {
   "cell_type": "code",
   "execution_count": null,
   "metadata": {
    "collapsed": false
   },
   "outputs": [],
   "source": [
    "%matplotlib inline"
   ]
  },
  {
   "cell_type": "markdown",
   "metadata": {},
   "source": [
    "\n",
    "# Preprocessing Neural Response Data\n",
    "\n",
    "Preprocessing iEEG and EEG data.\n",
    "\n",
    "In this example, we demonstrate how to use various preprocessing methods to prepare neural data for analysis using naplib-python.\n"
   ]
  },
  {
   "cell_type": "code",
   "execution_count": null,
   "metadata": {
    "collapsed": false
   },
   "outputs": [],
   "source": [
    "# Author: Gavin Mischler\n",
    "# \n",
    "# License: MIT\n",
    "\n",
    "import numpy as np\n",
    "import matplotlib.pyplot as plt\n",
    "\n",
    "import naplib as nl\n",
    "from naplib.preprocessing import filter_butter, normalize, phase_amplitude_extract, filter_line_noise\n",
    "from naplib.stats import responsive_ttest"
   ]
  },
  {
   "cell_type": "markdown",
   "metadata": {},
   "source": [
    "## 1. Preprocessing intracranial EEG (iEEG) responses\n",
    "\n",
    "The first step is often to extract different frequency band envelopes, such as the highgamma envelope, from the raw data.\n",
    "\n"
   ]
  },
  {
   "cell_type": "code",
   "execution_count": null,
   "metadata": {
    "collapsed": false
   },
   "outputs": [],
   "source": [
    "# Since we don't have raw iEEG responses to load, we generate random data to simulate the first step.\n",
    "num_trials = 5\n",
    "x = [np.random.rand(10000, 6) for _ in range(num_trials)] # 5 trials, each with 10000 samples and 6 channels\n",
    "fs = [500 for _ in range(num_trials)]\n",
    "\n",
    "data = nl.Data({'resp': x, 'dataf': fs})\n",
    "\n",
    "# First, we want to remove the line noise in our data\n",
    "# It doesn't really matter here since our data is randomly generated,\n",
    "# but we should always do this in practice\n",
    "line_noise_freq = 60\n",
    "\n",
    "data['resp'] = filter_line_noise(data, f=line_noise_freq)\n",
    "\n",
    "\n",
    "# Now, we extract alpha and highgamma frequency bands (both their phase and envelope/amplitude)\n",
    "freq_bands = [[8, 13], [70, 150]]\n",
    "bandnames = ['alpha', 'highgamma']\n",
    "\n",
    "# the output is a Data object with a phase and amplitude field for each frequency band\n",
    "phase_amp = phase_amplitude_extract(data, Wn=freq_bands, bandnames=bandnames)\n",
    "\n",
    "\n",
    "# plot the phase and amplitude for the one second for a single electrode\n",
    "t = np.arange(0, 10000/500, 1/500)\n",
    "fig, axes = plt.subplots(1,2,figsize=(10,3))\n",
    "axes[0].plot(t[500:1000], phase_amp[0]['alpha phase'][500:1000,0])\n",
    "axes[1].plot(t[500:1000], phase_amp[0]['alpha amp'][500:1000,0])\n",
    "axes[0].set_title('alpha phase')\n",
    "axes[1].set_title('alpha envelope')\n",
    "plt.show()\n",
    "\n",
    "fig, axes = plt.subplots(1,2,figsize=(10,3))\n",
    "axes[0].plot(t[500:1000], phase_amp[0]['highgamma phase'][500:1000,0])\n",
    "axes[1].plot(t[500:1000], phase_amp[0]['highgamma amp'][500:1000,0])\n",
    "axes[0].set_title('Highgamma phase')\n",
    "axes[1].set_title('Highgamma envelope')\n",
    "plt.show()"
   ]
  },
  {
   "cell_type": "markdown",
   "metadata": {},
   "source": [
    "### Process Highgamma Envelope Responses\n",
    "\n",
    "Here, we load a dataset that already contains highgamma envelope responses to clean speech.\n",
    "\n"
   ]
  },
  {
   "cell_type": "code",
   "execution_count": null,
   "metadata": {
    "collapsed": false
   },
   "outputs": [],
   "source": [
    "data = nl.io.load_speech_task_data()\n",
    "data.fields"
   ]
  },
  {
   "cell_type": "markdown",
   "metadata": {},
   "source": [
    "Keep only speech-responsive electrodes\n",
    "\n",
    "Using a t-test between responses to silence and speech (the onset of which is described by the 'befaft' field of the Data),\n",
    "we can determine which electrodes are speech-responsive. Since this simulated data has entirely\n",
    "responsive electrodes, we first set 2 of the electrodes to be random noise.\n",
    "\n"
   ]
  },
  {
   "cell_type": "code",
   "execution_count": null,
   "metadata": {
    "collapsed": false
   },
   "outputs": [],
   "source": [
    "# this indicates that for this trial, the response includes 1 second of silence before the\n",
    "# stimulus began, and 1 second at the end after the stimulus ended\n",
    "print(f\"befaft period: {data['befaft'][0]}\")\n",
    "\n",
    "rng = np.random.default_rng(1)\n",
    "for trial in data:\n",
    "    trial['resp'][:,3:5] = .25*rng.normal(size=(trial['resp'].shape[0],2))\n",
    "\n",
    "plt.figure()\n",
    "plt.plot(np.linspace(0, 4, 400), data['resp'][0][:400], alpha=0.6)\n",
    "plt.vlines(data['befaft'][0][0], -0.75, 2.5, label='Stim Onset', color='r', linestyle='dashed')\n",
    "plt.legend()\n",
    "plt.xlabel('Time (s)')\n",
    "plt.show()\n",
    "\n",
    "\n",
    "# Perform t-test to remove electrodes that are not responsive\n",
    "# This function performs FDR correction by default, but many parameters can be changed to alter\n",
    "# the test\n",
    "data_responsive, stats = responsive_ttest(data)\n",
    "print(stats.keys()) # statistics computed\n",
    "\n",
    "\n",
    "# now there are only 8 electrodes remaining\n",
    "print(data_responsive[0].shape)\n",
    "data['resp'] = data_responsive # set the responses to only be these good electrodes\n",
    "\n",
    "\n",
    "# plot some of the statistics computed\n",
    "# the p-values computed by response_ttest are corrected for multiple comparisons already\n",
    "\n",
    "fig, axes = plt.subplots(2,1,sharex=True)\n",
    "axes[0].plot(np.abs(stats['stat']), label='T-value')\n",
    "axes[0].legend()\n",
    "axes[1].plot(np.abs(stats['pval']), 'o-', label='pval')\n",
    "axes[1].hlines(stats['alpha'], 0, 10, color='r', label='alpha-level')\n",
    "axes[1].legend()\n",
    "axes[1].set_xlabel('Electrode')\n",
    "plt.tight_layout()\n",
    "plt.show()"
   ]
  },
  {
   "cell_type": "markdown",
   "metadata": {},
   "source": [
    "## 2. Frequency bandpass filtering (more used for EEG than iEEG)\n",
    "\n",
    "Let's imagine our data is EEG data instead of iEEG, and we want to extract different\n",
    "frequency bands for further analysis\n",
    "\n",
    "* delta (0.5-4Hz)\n",
    "* theta (4-8 Hz)\n",
    "* alpha (8-13 Hz)\n",
    "* beta (14-30Hz)\n",
    "\n"
   ]
  },
  {
   "cell_type": "code",
   "execution_count": null,
   "metadata": {
    "collapsed": false
   },
   "outputs": [],
   "source": [
    "# filter the responses to different bands and set them as new fields of the Data\n",
    "data['delta_resp'] = filter_butter(data, field='resp', Wn=[0.5, 4], order=5)\n",
    "data['theta_resp'] = filter_butter(data, field='resp', Wn=[4, 8], order=5)\n",
    "data['alpha_resp'] = filter_butter(data, field='resp', Wn=[8, 13], order=5)\n",
    "data['beta_resp'] = filter_butter(data, field='resp', Wn=[14, 30], order=5)\n",
    "\n",
    "\n",
    "# To make sure the filter bands are correct or meet our requirements, get the filters used and plot them\n",
    "# If we are not satisfied with the filters, we can set the ``order`` parameter in the ``filter_butter`` function to increase the filter order.\n",
    "theta_resp, filters = filter_butter(data, Wn=[4, 8], return_filters=True, order=5)\n",
    "\n",
    "# plot frequency response\n",
    "fig, ax = plt.subplots()\n",
    "nl.visualization.freq_response(filters[0], fs=data[0]['dataf'], ax=ax)\n",
    "plt.show()\n",
    "\n",
    "# use a higher order to get steeper cutoff region\n",
    "theta_resp_2, filters_2 = filter_butter(data, Wn=[4, 8], order=10, return_filters=True)\n",
    "\n",
    "# plot frequency response\n",
    "fig, ax = plt.subplots()\n",
    "nl.visualization.freq_response(filters_2[0], fs=data[0]['dataf'], ax=ax)\n",
    "plt.show()"
   ]
  },
  {
   "cell_type": "markdown",
   "metadata": {},
   "source": [
    "### Normalize filtered responses and plot\n",
    "\n",
    "Now that we have bandpassed responses, normalize each one (by z-scoring).\n",
    "\n"
   ]
  },
  {
   "cell_type": "code",
   "execution_count": null,
   "metadata": {
    "collapsed": false
   },
   "outputs": [],
   "source": [
    "data['delta_resp'] = normalize(data, field='delta_resp')\n",
    "data['theta_resp'] = normalize(data, field='theta_resp')\n",
    "data['alpha_resp'] = normalize(data, field='alpha_resp')\n",
    "data['beta_resp'] = normalize(data, field='beta_resp')\n",
    "\n",
    "trial = 0\n",
    "t = np.arange(0, 10*100) / data['dataf'][trial]\n",
    "\n",
    "fig, axes = plt.subplots(4,1,figsize=(12,8), sharex=True)\n",
    "\n",
    "axes[0].plot(t, data['delta_resp'][trial][:10*100])\n",
    "axes[0].set_title('Delta')\n",
    "axes[1].plot(t, data['theta_resp'][trial][:10*100])\n",
    "axes[1].set_title('Theta')\n",
    "axes[2].plot(t, data['alpha_resp'][trial][:10*100])\n",
    "axes[2].set_title('Alpha')\n",
    "axes[3].plot(t, data['beta_resp'][trial][:10*100])\n",
    "axes[3].set_title('Beta')\n",
    "axes[3].set_xlabel('Time (s)')\n",
    "plt.tight_layout()\n",
    "plt.show()"
   ]
  },
  {
   "cell_type": "code",
   "execution_count": null,
   "metadata": {},
   "outputs": [],
   "source": []
  }
 ],
 "metadata": {
  "kernelspec": {
   "display_name": "Python 3",
   "language": "python",
   "name": "python3"
  },
  "language_info": {
   "codemirror_mode": {
    "name": "ipython",
    "version": 3
   },
   "file_extension": ".py",
   "mimetype": "text/x-python",
   "name": "python",
   "nbconvert_exporter": "python",
   "pygments_lexer": "ipython3",
   "version": "3.8.19"
  }
 },
 "nbformat": 4,
 "nbformat_minor": 0
}
